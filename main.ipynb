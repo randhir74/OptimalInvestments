{
 "cells": [
  {
   "cell_type": "code",
   "execution_count": 2,
   "metadata": {},
   "outputs": [],
   "source": [
    "# A function to perform automatic differentiation.\n",
    "from jax import grad\n",
    "# A wrapped version of NumPy to use JAX primitives.\n",
    "import jax.numpy as np\n",
    "# A library for programmatic plot generation.\n",
    "import matplotlib.pyplot as plt\n",
    "# A library for data manipulation and analysis.\n",
    "import pandas as pd\n",
    "\n",
    "# A magic command to make output of plotting commands displayed inline within the Jupyter notebook.\n",
    "%matplotlib inline "
   ]
  },
  {
   "cell_type": "code",
   "execution_count": 3,
   "metadata": {},
   "outputs": [],
   "source": [
    "import w1_unittest\n",
    "\n",
    "# Please ignore the warning message about GPU/TPU if it appears."
   ]
  },
  {
   "cell_type": "code",
   "execution_count": 4,
   "metadata": {},
   "outputs": [],
   "source": [
    "df = pd.read_csv('data/prices.csv')"
   ]
  },
  {
   "cell_type": "code",
   "execution_count": 9,
   "metadata": {},
   "outputs": [
    {
     "name": "stdout",
     "output_type": "stream",
     "text": [
      "        date  price_supplier_a_dollars_per_item  \\\n",
      "0  1/02/2016                                104   \n",
      "1  1/03/2016                                108   \n",
      "2  1/04/2016                                101   \n",
      "3  1/05/2016                                104   \n",
      "4  1/06/2016                                102   \n",
      "\n",
      "   price_supplier_b_dollars_per_item  \n",
      "0                                 76  \n",
      "1                                 76  \n",
      "2                                 84  \n",
      "3                                 79  \n",
      "4                                 81  \n"
     ]
    }
   ],
   "source": [
    "print(df.head())"
   ]
  },
  {
   "cell_type": "code",
   "execution_count": 10,
   "metadata": {},
   "outputs": [
    {
     "name": "stdout",
     "output_type": "stream",
     "text": [
      "Index(['date', 'price_supplier_a_dollars_per_item',\n",
      "       'price_supplier_b_dollars_per_item'],\n",
      "      dtype='object')\n"
     ]
    }
   ],
   "source": [
    "print(df.columns)"
   ]
  },
  {
   "cell_type": "code",
   "execution_count": 11,
   "metadata": {},
   "outputs": [
    {
     "data": {
      "text/plain": [
       "0     1/02/2016\n",
       "1     1/03/2016\n",
       "2     1/04/2016\n",
       "3     1/05/2016\n",
       "4     1/06/2016\n",
       "5     1/07/2016\n",
       "6     1/08/2016\n",
       "7     1/09/2016\n",
       "8     1/10/2016\n",
       "9     1/11/2016\n",
       "10    1/12/2016\n",
       "11    1/01/2017\n",
       "12    1/02/2017\n",
       "13    1/03/2017\n",
       "14    1/04/2017\n",
       "15    1/05/2017\n",
       "16    1/06/2017\n",
       "17    1/07/2017\n",
       "18    1/08/2017\n",
       "19    1/09/2017\n",
       "20    1/10/2017\n",
       "21    1/11/2017\n",
       "22    1/12/2017\n",
       "23    1/01/2018\n",
       "24    1/02/2018\n",
       "25    1/03/2018\n",
       "26    1/04/2018\n",
       "27    1/05/2018\n",
       "28    1/06/2018\n",
       "29    1/07/2018\n",
       "30    1/08/2018\n",
       "31    1/09/2018\n",
       "32    1/10/2018\n",
       "33    1/11/2018\n",
       "34    1/12/2018\n",
       "35    1/01/2019\n",
       "36    1/02/2019\n",
       "37    1/03/2019\n",
       "38    1/04/2019\n",
       "39    1/05/2019\n",
       "40    1/06/2019\n",
       "41    1/07/2019\n",
       "42    1/08/2019\n",
       "43    1/09/2019\n",
       "44    1/10/2019\n",
       "45    1/11/2019\n",
       "46    1/12/2019\n",
       "47    1/01/2020\n",
       "48    1/02/2020\n",
       "49    1/03/2020\n",
       "Name: date, dtype: object"
      ]
     },
     "execution_count": 11,
     "metadata": {},
     "output_type": "execute_result"
    }
   ],
   "source": [
    "df.date"
   ]
  },
  {
   "cell_type": "code",
   "execution_count": 12,
   "metadata": {},
   "outputs": [],
   "source": [
    "prices_A = df.price_supplier_a_dollars_per_item\n",
    "prices_B = df.price_supplier_b_dollars_per_item\n",
    "prices_A = np.array(prices_A).astype('float32')\n",
    "prices_B = np.array(prices_B).astype('float32')"
   ]
  }
 ],
 "metadata": {
  "kernelspec": {
   "display_name": "Python 3",
   "language": "python",
   "name": "python3"
  },
  "language_info": {
   "codemirror_mode": {
    "name": "ipython",
    "version": 3
   },
   "file_extension": ".py",
   "mimetype": "text/x-python",
   "name": "python",
   "nbconvert_exporter": "python",
   "pygments_lexer": "ipython3",
   "version": "3.12.3"
  }
 },
 "nbformat": 4,
 "nbformat_minor": 2
}
